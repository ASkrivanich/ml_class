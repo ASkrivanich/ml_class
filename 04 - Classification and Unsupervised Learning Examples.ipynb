{
 "cells": [
  {
   "cell_type": "markdown",
   "metadata": {},
   "source": [
    "# Classification and Unsupervised Learning Examples"
   ]
  },
  {
   "cell_type": "code",
   "execution_count": null,
   "metadata": {},
   "outputs": [],
   "source": [
    "# import our libraries\n",
    "%matplotlib notebook\n",
    "\n",
    "from matplotlib.colors import ListedColormap\n",
    "from matplotlib.colors import LinearSegmentedColormap\n",
    "import matplotlib.patches as mpatches\n",
    "import matplotlib.pyplot as plt\n",
    "import numpy as np\n",
    "from sklearn.datasets.samples_generator import make_blobs\n",
    "from sklearn.cluster import MiniBatchKMeans, KMeans\n",
    "from sklearn.metrics.pairwise import pairwise_distances_argmin"
   ]
  },
  {
   "cell_type": "code",
   "execution_count": null,
   "metadata": {},
   "outputs": [],
   "source": [
    "# Show how unsupervised learning, or supervised learning classification could be applied to mock data\n",
    "\n",
    "# Generate some example data clusters from SKLearns utility.  \n",
    "# This can be used to test classifiers or visualize examples.\n",
    "centers = [[-2,-.5],[3,1.3],[-.5,3]]\n",
    "X, y = make_blobs(n_samples=250, centers=centers, n_features=2, random_state=0,center_box=(-15,15))\n",
    "\n",
    "# creating a custom color map so we can plot scatters with matching colors in Truth labels & legend\n",
    "cmap_name = 'my_color_list'\n",
    "#        --- red ---     --- blue ---   --- purple ---        # colors at 0.5 alpha (opacity)\n",
    "colors = [(1, 0, 0,0.5), (0, 1, 0,0.5), (0.6, 0.1, 0.9,0.5)]  # R -> G -> B\n",
    "cm = LinearSegmentedColormap.from_list(cmap_name, colors, N=len(colors))\n",
    "\n",
    "# plt.scatter(X[:,0], X[:,1],  c=y, label='data')\n",
    "\n",
    "fig, (ax1, ax2) = plt.subplots(1, 2, sharey=True)\n",
    "# 1st plot - what your data would look like without labels\n",
    "ax1.scatter(X[:,0], X[:,1], alpha=.5, label='classes')\n",
    "# 2nd plot - what your data would look like with Truth labels applied\n",
    "ax2.scatter(X[:,0], X[:,1], c=y, cmap=cm)\n",
    "\n",
    "ax1.set_title('Data that might have structure')\n",
    "ax1.set_xlabel('Unlabeled Animal Data')\n",
    "ax1.set_ylabel('Feature Values')\n",
    "ax2.set_xlabel('Labeled Data')\n",
    "\n",
    "class_labels = ['Dog','Bird','Cat']\n",
    "recs = []\n",
    "for i in range(0,len(colors)):\n",
    "    recs.append(mpatches.Rectangle((0,0),1,1,fc=colors[i]))\n",
    "plt.legend(recs,class_labels,loc=4)\n",
    "\n",
    "plt.show()\n"
   ]
  },
  {
   "cell_type": "code",
   "execution_count": null,
   "metadata": {},
   "outputs": [],
   "source": [
    "# Compare Unsupervised clustering using KMeans to Truth set\n",
    "\n",
    "n_clusters = len(centers)\n",
    "mbkmeans = MiniBatchKMeans(init='k-means++', n_clusters=n_clusters, batch_size=10, n_init=10, max_no_improvement=10, verbose=0)\n",
    "mbkmeans.fit(X)\n",
    "mbk_means_cluster_centers = np.sort(mbkmeans.cluster_centers_, axis=0)\n",
    "mbk_means_labels = pairwise_distances_argmin(X, mbk_means_cluster_centers)\n",
    "true_cluster_centers = np.sort(mbkmeans.cluster_centers_, axis=0)\n",
    "true_labels = pairwise_distances_argmin(X, true_cluster_centers)\n",
    "\n",
    "\n",
    "# MiniBatchKMeans\n",
    "fig, (ax1, ax2) = plt.subplots(1, 2, sharey=True)\n",
    "# --HACK-- change order of KMeans colors so they match Truth labels\n",
    "colors = [(1, 0, 0,0.5),(0.6, 0.1, 0.9,0.5), (0, 1, 0,0.5) ]  # R -> G -> B\n",
    "\n",
    "for k, color in zip(range(n_clusters), colors):\n",
    "    my_members = mbk_means_labels == k\n",
    "    cluster_center = true_cluster_centers[k]\n",
    "    \n",
    "    ax1.scatter(X[my_members, 0], X[my_members, 1], c=color, cmap=cm)\n",
    "    ax1.plot(cluster_center[0], cluster_center[1], 'X', markerfacecolor=color, markeredgecolor='k', markersize=10)\n",
    "    \n",
    "# 2nd plot - what your data would look like with Truth labels applied\n",
    "ax2.scatter(X[:,0], X[:,1], c=y, cmap=cm)\n",
    "# ax2.plot(X[my_members, 0], X[my_members, 1], 'o', markerfacecolor=color, marker='.')\n",
    "\n",
    "ax1.set_title('MiniBatchKMeans')\n",
    "ax2.set_title('Ground Truth Labels')\n",
    "plt.legend(recs,class_labels,loc=4)\n",
    "plt.show()"
   ]
  },
  {
   "cell_type": "markdown",
   "metadata": {},
   "source": [
    "## Next Up\n",
    "[Preparing Data](/notebooks/05 - Preparing Data.ipynb)"
   ]
  }
 ],
 "metadata": {
  "kernelspec": {
   "display_name": "Python 3",
   "language": "python",
   "name": "python3"
  },
  "language_info": {
   "codemirror_mode": {
    "name": "ipython",
    "version": 3
   },
   "file_extension": ".py",
   "mimetype": "text/x-python",
   "name": "python",
   "nbconvert_exporter": "python",
   "pygments_lexer": "ipython3",
   "version": "3.6.3"
  }
 },
 "nbformat": 4,
 "nbformat_minor": 2
}
