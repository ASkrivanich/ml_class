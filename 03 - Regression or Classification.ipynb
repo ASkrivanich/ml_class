{
 "cells": [
  {
   "cell_type": "markdown",
   "metadata": {},
   "source": [
    "# Regression or Classification\n",
    "\n",
    "## Regression\n",
    "\n",
    "Trying to draw the best line through the data.\n",
    "The best line is the one with the smallest error on matching the data (mean squared error).\n",
    "\n",
    "- Each prediction output will be a value dependent on the input.\n",
    "- The relationship of the dependency will depend on the algorithm used (linear, polynomial, etc)\n",
    "\n",
    "### Cost Function\n",
    "\n",
    "The cost function formula used can vary but it's usually the Mean Squared Error in Linear Regression:\n",
    "https://en.wikipedia.org/wiki/Mean_squared_error\n",
    "\n",
    "## $Mean Squared Error=\\displaystyle\\frac{1}{m}\\sum_{t=1}^{m}(Y_i-{\\hat Y_i})^2$\n",
    "\n",
    "\n",
    "## Classification\n",
    "\n",
    "Trying to bucket/group/label the data. \n",
    "\n",
    "- There's a limited number of knowable values\n",
    "- Each label will come with a prediction value between 0-1 (e.g. .73, or 73% match)\n",
    "\n",
    "### Unsupervised Learning\n",
    "\n",
    "* We don't know what the classification groups/labels are yet\n",
    "\n",
    "### Supervised Learning\n",
    "\n",
    "* We know exactly how we want to label the data, we just don't want to do it by hand.\n",
    "\n",
    "# Pop Quiz\n",
    "\n",
    "Which type of machine learning problem might these be, Regression or Classification?"
   ]
  },
  {
   "cell_type": "markdown",
   "metadata": {},
   "source": [
    "# TODO: Merge this with above ^\n",
    "\n",
    "# Supervised Learning\n",
    "- Using **labeled** data with known defined training examples to learn data patterns\n",
    "\n",
    "# Unsupervised Learning\n",
    "- **Clustering** & automatic grouping without labeling data\n",
    "- attempting to determine structure in data without knowing the inherent labels or structure\n",
    "\n",
    "# Classification\n",
    "- Prediction of a finite number of discreet values/**labels** which are called 'classes'\n",
    "  - eg. Classify this image as values from a list: ( Mickey | Minnie | Donald Duck | None )"
   ]
  },
  {
   "cell_type": "markdown",
   "metadata": {},
   "source": [
    "## 1. You are examining a large set of images, looking for offensive content"
   ]
  },
  {
   "cell_type": "code",
   "execution_count": 1,
   "metadata": {},
   "outputs": [
    {
     "name": "stdout",
     "output_type": "stream",
     "text": [
      "Answer 1: Classification\n"
     ]
    }
   ],
   "source": [
    "answer1=['Classification', 'Regression']\n",
    "print(\"Answer 1:\", answer1[1-1+1-1+1-1+1-1+1-1])"
   ]
  },
  {
   "cell_type": "markdown",
   "metadata": {},
   "source": [
    "## 2. You would like to predict the population count of attendees at a public park based on historical daily visitor counts and the weather of each day"
   ]
  },
  {
   "cell_type": "code",
   "execution_count": 2,
   "metadata": {},
   "outputs": [
    {
     "name": "stdout",
     "output_type": "stream",
     "text": [
      "Answer 2: Regression\n"
     ]
    }
   ],
   "source": [
    "answer1=['Classification', 'Regression']\n",
    "print(\"Answer 2:\", answer1[1-1+1-1+1-1+1-1+1-1-1+1+1+1-1-1-1])"
   ]
  },
  {
   "cell_type": "markdown",
   "metadata": {},
   "source": [
    "## 3. You want to predict the probability that a twitter follower is a fake account"
   ]
  },
  {
   "cell_type": "code",
   "execution_count": 3,
   "metadata": {},
   "outputs": [
    {
     "name": "stdout",
     "output_type": "stream",
     "text": [
      "Answer 3: Classification\n"
     ]
    }
   ],
   "source": [
    "answer1=['Classification', 'Regression']\n",
    "print(\"Answer 3:\", answer1[3-1-1+1+1-1-11-1+1-1+1-1+1+8-2+3])"
   ]
  },
  {
   "cell_type": "markdown",
   "metadata": {},
   "source": [
    "## 4. You want to predict the next day an outage will occur based on historical uptime data"
   ]
  },
  {
   "cell_type": "code",
   "execution_count": 4,
   "metadata": {},
   "outputs": [
    {
     "name": "stdout",
     "output_type": "stream",
     "text": [
      "Answer 4: Regression\n"
     ]
    }
   ],
   "source": [
    "answer1=['Classification', 'Regression']\n",
    "print(\"Answer 4:\", answer1[4+3-2-8+5-6+5])"
   ]
  },
  {
   "cell_type": "markdown",
   "metadata": {},
   "source": [
    "# Note: \n",
    "## Logistic Regression is unfortunately named.  \n",
    "## It's actually a **Binary Classifier** (predicts an output 'class' of 1 or 0)"
   ]
  },
  {
   "cell_type": "code",
   "execution_count": null,
   "metadata": {},
   "outputs": [],
   "source": []
  }
 ],
 "metadata": {
  "kernelspec": {
   "display_name": "Python 3",
   "language": "python",
   "name": "python3"
  },
  "language_info": {
   "codemirror_mode": {
    "name": "ipython",
    "version": 3
   },
   "file_extension": ".py",
   "mimetype": "text/x-python",
   "name": "python",
   "nbconvert_exporter": "python",
   "pygments_lexer": "ipython3",
   "version": "3.6.3"
  }
 },
 "nbformat": 4,
 "nbformat_minor": 2
}
