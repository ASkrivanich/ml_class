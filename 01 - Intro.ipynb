{
 "cells": [
  {
   "cell_type": "markdown",
   "metadata": {},
   "source": [
    "# Machine Learning Demystified for Developers\n",
    "\n",
    "## Getting Started (Locally)\n",
    "1. Install Docker for [Mac](https://www.docker.com/docker-mac) / [Windows](https://www.docker.com/docker-windows) / [Linux](https://docs.docker.com/install/)\n",
    "2. Download and Run:\n",
    "```shell\n",
    "git clone git@github.com:atomantic/ml_class.git\n",
    "cd ml_class\n",
    "docker run -it -v $(pwd):/home/jovyan --rm -p 8888:8888 jupyter/scipy-notebook\n",
    "```\n",
    "2. Open the link to jupyter environment given by the docker run command (e.g. http://localhost:8888/?token=f02e34b39ff5c834ca0a22335eb89b3b5858d1cc858ae921) ![run.png](run.png)"
   ]
  },
  {
   "cell_type": "code",
   "execution_count": null,
   "metadata": {},
   "outputs": [],
   "source": [
    "# In Jupyter you can execute commandline programs by prefixing with a '!'\n",
    "!python --version"
   ]
  },
  {
   "cell_type": "code",
   "execution_count": null,
   "metadata": {},
   "outputs": [],
   "source": [
    "# Use the 'magic' % commands to get inline graphic plots later\n",
    "%matplotlib notebook\n",
    "\n",
    "import matplotlib.pyplot as plt"
   ]
  },
  {
   "cell_type": "code",
   "execution_count": null,
   "metadata": {},
   "outputs": [],
   "source": [
    "# Import the common packages for exploring Machine Learning\n",
    "import numpy as np\n",
    "import pandas as pd\n",
    "import sklearn\n",
    "import matplotlib.pyplot as plt\n",
    "import matplotlib\n",
    "\n",
    "# Always good to check versions - because DOCS on google may differ!\n",
    "print('NumPy Version',np.__version__)\n",
    "print('Pandas Version',pd.__version__)\n",
    "print('Scikit Learn Version',sklearn.__version__)\n",
    "print('MatplotLib Version',matplotlib.__version__)"
   ]
  },
  {
   "cell_type": "code",
   "execution_count": null,
   "metadata": {},
   "outputs": [],
   "source": [
    "# Lets create a simple dataframe\n",
    "df = pd.DataFrame([[1,2],[3,4],[5,6],[7,8],[9,10],[11,12]])\n",
    "# with column names for ease of use\n",
    "df.columns = ['Feature 1','Feature 2']"
   ]
  },
  {
   "cell_type": "code",
   "execution_count": null,
   "metadata": {},
   "outputs": [],
   "source": [
    "# ** note: Jupyter will 'pretty print' the LAST object you reference without a print()\n",
    "# But you have to use print('') to show any others before it\n",
    "\n",
    "print(type(df.values)) # <--- this gets printed\n",
    "df.values              # <--- but this DOESN'T get printed\n",
    "df                     # <--- but this does (last direct item)"
   ]
  }
 ],
 "metadata": {
  "kernelspec": {
   "display_name": "Python 3",
   "language": "python",
   "name": "python3"
  },
  "language_info": {
   "codemirror_mode": {
    "name": "ipython",
    "version": 3
   },
   "file_extension": ".py",
   "mimetype": "text/x-python",
   "name": "python",
   "nbconvert_exporter": "python",
   "pygments_lexer": "ipython3",
   "version": "3.6.3"
  }
 },
 "nbformat": 4,
 "nbformat_minor": 2
}
