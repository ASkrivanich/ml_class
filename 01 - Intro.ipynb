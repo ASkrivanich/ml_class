{
 "cells": [
  {
   "cell_type": "markdown",
   "metadata": {},
   "source": [
    "# Machine Learning Demystified for Developers\n",
    "\n",
    "## Getting Started (Locally)\n",
    "1. Install Docker for [Mac](https://www.docker.com/docker-mac) / [Windows](https://www.docker.com/docker-windows) / [Linux](https://docs.docker.com/install/)\n",
    "2. Start docker ;)\n",
    "2. Clone and start the project\n",
    "- **MacOS / Linux**\n",
    "```shell\n",
    "git clone git@github.com:atomantic/ml_class.git\n",
    "cd ml_class\n",
    "docker run -it -v $(pwd):/home/jovyan --rm -p 8888:8888 jupyter/scipy-notebook\n",
    "```\n",
    "- **Windows**\n",
    "> recommend using [bash for windows](https://docs.microsoft.com/en-us/windows/wsl/install-win10) and following the same instructions for MacOS/Linux ;)\n",
    "2. Open the link to jupyter environment given by the docker run command (e.g. http://localhost:8888/?token=f02e34b39ff5c834ca0a22335eb89b3b5858d1cc858ae921) ![terminal output](images/run.png)\n",
    "\n",
    "\n",
    "## What Are We Learning?\n",
    "1. Python and Jupyter (basics)\n",
    "2. ML Terms\n",
    "2. A bit about clustering\n",
    "2. Some ways to slice and consider your data\n",
    "2. How to do a basic Linear Regression and evaluate the quality\n",
    "2. How to implement a simple Neural Network and evaluate the quality\n",
    "\n",
    "## Follow Along!\n",
    "This section focuses on getting comfortable with the Juypter Notebook, reading Python source code, and executing Python statements."
   ]
  },
  {
   "cell_type": "code",
   "execution_count": 2,
   "metadata": {},
   "outputs": [
    {
     "name": "stdout",
     "output_type": "stream",
     "text": [
      "Python 3.6.3\r\n"
     ]
    }
   ],
   "source": [
    "# In Jupyter you can execute commandline programs by prefixing with a '!'\n",
    "# hit ctrl+enter (or shift+enter) to execute\n",
    "!python --version"
   ]
  },
  {
   "cell_type": "code",
   "execution_count": 3,
   "metadata": {},
   "outputs": [
    {
     "name": "stdout",
     "output_type": "stream",
     "text": [
      "NumPy Version 1.12.1\n",
      "Pandas Version 0.19.2\n",
      "Scikit Learn Version 0.18.2\n",
      "MatplotLib Version 2.0.2\n"
     ]
    }
   ],
   "source": [
    "# Import the common packages for exploring Machine Learning\n",
    "import numpy as np  # <-- common convention for short names of packages...\n",
    "import pandas as pd\n",
    "import sklearn\n",
    "import matplotlib\n",
    "import matplotlib.pyplot as plt\n",
    "\n",
    "# Always good to check versions - because DOCS differ!\n",
    "print('NumPy Version',np.__version__)\n",
    "print('Pandas Version',pd.__version__)\n",
    "print('Scikit Learn Version',sklearn.__version__)\n",
    "print('MatplotLib Version',matplotlib.__version__)"
   ]
  },
  {
   "cell_type": "markdown",
   "metadata": {},
   "source": [
    "![numpy](images/logo_numpy.jpg)\n",
    "NumPy is a library for the Python programming language, adding support for large, multi-dimensional arrays and matrices, along with a large collection of high-level mathematical functions to operate on these arrays.\n",
    "- [docs](https://docs.scipy.org/doc/)\n",
    "- n-dimensional array object\n",
    "- random numbers"
   ]
  },
  {
   "cell_type": "code",
   "execution_count": 4,
   "metadata": {},
   "outputs": [
    {
     "name": "stdout",
     "output_type": "stream",
     "text": [
      "full array: [[ 1  2]\n",
      " [ 3  4]\n",
      " [ 5  6]\n",
      " [ 7  8]\n",
      " [ 9 10]\n",
      " [11 12]]\n",
      "first row: [1 2]\n",
      "first column values from all rows: [ 1  3  5  7  9 11]\n",
      "second column, second row: 4\n",
      "more complex value pulling: [5 7]\n",
      "Playground: [7 8]\n"
     ]
    }
   ],
   "source": [
    "# Create a simple NumPy array\n",
    "a = np.array([[1,2],\n",
    "              [3,4],\n",
    "              [5,6],\n",
    "              [7,8],\n",
    "              [9,10],\n",
    "              [11,12]])\n",
    "print(\"full array:\", a)\n",
    "\n",
    "# Python uses interesting syntax of slicing data\n",
    "# Zero-indexed!\n",
    "print(\"first row:\", a[0])\n",
    "print(\"first column values from all rows:\", a[:,0])\n",
    "print(\"second column, second row:\", a[1,1])\n",
    "print(\"more complex value pulling:\", a[2:4,0])\n",
    "\n",
    "# Your Turn\n",
    "print(\"Playground:\", a[3])"
   ]
  },
  {
   "cell_type": "markdown",
   "metadata": {},
   "source": [
    "![pandas](images/logo_pandas.png)\n",
    "Pandas is a Python library that provides powerful data structures for data analysis, time series,and statistics. \n",
    "- [docs](https://pandas.pydata.org/pandas-docs/stable/)\n",
    "- powerful data analysis and manipulation\n",
    "- makes data into something like a spreadsheet"
   ]
  },
  {
   "cell_type": "code",
   "execution_count": null,
   "metadata": {},
   "outputs": [],
   "source": [
    "# Lets create a DataFrame with Pandas that has more advanced utility functions built in\n",
    "# Load the previously created NumPy array as an input argument known aka function parameter\n",
    "df = pd.DataFrame(a)\n",
    "# with column names for ease of use\n",
    "df.columns = ['Feature 1','Feature 2']\n",
    "\n",
    "# ** note: Jupyter will 'pretty print' the LAST object you reference without a print()\n",
    "# But you have to use print('') to show any others before it\n",
    "\n",
    "print(df) # <--- this gets printed\n",
    "df.values              # <--- but this DOESN'T get printed\n",
    "df                     # <--- but this does (last direct item)"
   ]
  },
  {
   "cell_type": "markdown",
   "metadata": {},
   "source": [
    "![matplotlib](images/logo_matplotlib.png)\n",
    "matplotlib is a plotting library for the Python programming language and its numerical mathematics extension NumPy.\n",
    "- [docs](https://matplotlib.org/contents.html)\n",
    "- powerful data visualization\n",
    "- interactive with iPython/Jupyter Notebooks"
   ]
  },
  {
   "cell_type": "code",
   "execution_count": null,
   "metadata": {},
   "outputs": [],
   "source": [
    "# multiple plots can be created and shown by giving the plots a figure number\n",
    "plt.figure(1)\n",
    "# generate some random data (10K numbers between 0-1)\n",
    "x = np.random.rand(10000)\n",
    "# create a histogram, placing the values in x into 100 buckets\n",
    "plt.hist(x, 100)\n",
    "# render it\n",
    "plt.show()"
   ]
  },
  {
   "cell_type": "code",
   "execution_count": null,
   "metadata": {},
   "outputs": [],
   "source": [
    "# Use the 'magic' % have iPython load matplotlib in interactive mode\n",
    "%matplotlib notebook"
   ]
  },
  {
   "cell_type": "code",
   "execution_count": null,
   "metadata": {},
   "outputs": [],
   "source": [
    "# interactive scatterplot\n",
    "N = 50\n",
    "x = np.random.rand(N)\n",
    "y = np.random.rand(N)\n",
    "colors = np.random.rand(N)\n",
    "area = np.pi * (15 * np.random.rand(N))**2  # 0 to 15 point radii\n",
    "\n",
    "plt.figure(1)\n",
    "plt.scatter(x, y, s=area, c=colors, alpha=0.5)\n",
    "plt.show()"
   ]
  },
  {
   "cell_type": "code",
   "execution_count": null,
   "metadata": {},
   "outputs": [],
   "source": [
    "# Use the 'magic' % to see what variables are in memory\n",
    "%who\n",
    "%whos"
   ]
  },
  {
   "cell_type": "markdown",
   "metadata": {},
   "source": [
    "See [Magic Commands Docs](http://ipython.readthedocs.io/en/stable/interactive/magics.html)"
   ]
  },
  {
   "cell_type": "markdown",
   "metadata": {},
   "source": [
    "![scikit-learn](images/logo_scikit.png)\n",
    "Scikit-learn is a machine learning library for the Python programming langauge. It is simple and provides efficient tools for data mining and data analysis.\n",
    "- [docs](http://scikit-learn.org/stable/documentation.html)\n",
    "- complete machine learning toolkit\n",
    "- clustering tools\n",
    "- neural networks\n",
    "- experimental data\n",
    "\n",
    "### ...We'll Get to This\n",
    "\n",
    "## But First\n",
    "\n",
    "Let's continue to [Demistifying ML Terms](/notebooks/02%20-%20Demistifying%20ML%20Terms.ipynb)"
   ]
  }
 ],
 "metadata": {
  "kernelspec": {
   "display_name": "Python 3",
   "language": "python",
   "name": "python3"
  },
  "language_info": {
   "codemirror_mode": {
    "name": "ipython",
    "version": 3
   },
   "file_extension": ".py",
   "mimetype": "text/x-python",
   "name": "python",
   "nbconvert_exporter": "python",
   "pygments_lexer": "ipython3",
   "version": "3.6.3"
  }
 },
 "nbformat": 4,
 "nbformat_minor": 2
}
