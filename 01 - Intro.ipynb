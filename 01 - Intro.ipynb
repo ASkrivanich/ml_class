{
 "cells": [
  {
   "cell_type": "markdown",
   "metadata": {},
   "source": [
    "# Machine Learning Demystified for Developers\n",
    "\n",
    "## Getting Started (Locally)\n",
    "1. Install Docker for [Mac](https://www.docker.com/docker-mac) / [Windows](https://www.docker.com/docker-windows) / [Linux](https://docs.docker.com/install/)\n",
    "2. Download and Run:\n",
    "```shell\n",
    "git clone git@github.com:atomantic/ml_class.git\n",
    "cd ml_class\n",
    "docker run -it -v $(pwd):/home/jovyan --rm -p 8888:8888 jupyter/scipy-notebook\n",
    "```\n",
    "2. Open the link to jupyter environment given by the docker run command (e.g. http://localhost:8888/?token=f02e34b39ff5c834ca0a22335eb89b3b5858d1cc858ae921) ![run.png](run.png)"
   ]
  }
 ],
 "metadata": {
  "kernelspec": {
   "display_name": "Python 3",
   "language": "python",
   "name": "python3"
  },
  "language_info": {
   "codemirror_mode": {
    "name": "ipython",
    "version": 3
   },
   "file_extension": ".py",
   "mimetype": "text/x-python",
   "name": "python",
   "nbconvert_exporter": "python",
   "pygments_lexer": "ipython3",
   "version": "3.6.3"
  }
 },
 "nbformat": 4,
 "nbformat_minor": 2
}
