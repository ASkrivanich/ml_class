{
 "cells": [
  {
   "cell_type": "markdown",
   "metadata": {},
   "source": [
    "# Machine Learning Demystified for Developers\n",
    "\n",
    "## Getting Started (Locally)\n",
    "1. Install Docker for [Mac](https://www.docker.com/docker-mac) / [Windows](https://www.docker.com/docker-windows) / [Linux](https://docs.docker.com/install/)\n",
    "2. Download and Run:\n",
    "```shell\n",
    "git clone git@github.com:atomantic/ml_class.git\n",
    "cd ml_class\n",
    "docker run -it -v $(pwd):/home/jovyan --rm -p 8888:8888 jupyter/scipy-notebook\n",
    "```\n",
    "2. Open the link to jupyter environment given by the docker run command (e.g. http://localhost:8888/?token=f02e34b39ff5c834ca0a22335eb89b3b5858d1cc858ae921) ![run.png](run.png)"
   ]
  },
  {
   "cell_type": "code",
   "execution_count": 1,
   "metadata": {},
   "outputs": [
    {
     "name": "stdout",
     "output_type": "stream",
     "text": [
      "Python 3.6.3\r\n"
     ]
    }
   ],
   "source": [
    "# In Jupyter you can execute commandline programs by prefixing with a '!'\n",
    "!python --version"
   ]
  },
  {
   "cell_type": "code",
   "execution_count": null,
   "metadata": {},
   "outputs": [],
   "source": [
    "# Use the 'magic' % commands to get inline graphic plots \n",
    "%matplotlib notebook\n",
    "\n",
    "import matplotlib.pyplot as plt\n",
    "## TODO Plot a scatter / historgram..."
   ]
  },
  {
   "cell_type": "code",
   "execution_count": 2,
   "metadata": {},
   "outputs": [
    {
     "name": "stdout",
     "output_type": "stream",
     "text": [
      "NumPy Version 1.12.1\n",
      "Pandas Version 0.19.2\n",
      "Scikit Learn Version 0.18.2\n",
      "MatplotLib Version 2.0.2\n"
     ]
    }
   ],
   "source": [
    "# Import the common packages for exploring Machine Learning\n",
    "import numpy as np  # <-- common convention for short names of packages...\n",
    "import pandas as pd\n",
    "import sklearn\n",
    "import matplotlib.pyplot as plt\n",
    "import matplotlib\n",
    "\n",
    "# Always good to check versions - because DOCS on google may differ!\n",
    "print('NumPy Version',np.__version__)\n",
    "print('Pandas Version',pd.__version__)\n",
    "print('Scikit Learn Version',sklearn.__version__)\n",
    "print('MatplotLib Version',matplotlib.__version__)"
   ]
  },
  {
   "cell_type": "markdown",
   "metadata": {},
   "source": [
    "## TODO: Insert brief logo & description of Scikitlearn Numpy Matplotlib Pandas"
   ]
  },
  {
   "cell_type": "code",
   "execution_count": 13,
   "metadata": {},
   "outputs": [
    {
     "name": "stdout",
     "output_type": "stream",
     "text": [
      "[[ 1  2]\n",
      " [ 3  4]\n",
      " [ 5  6]\n",
      " [ 7  8]\n",
      " [ 9 10]\n",
      " [11 12]]\n",
      "[1 2]\n",
      "[ 1  3  5  7  9 11]\n",
      "4\n",
      "[5 7]\n"
     ]
    }
   ],
   "source": [
    "# Create a simple NumPy array\n",
    "a = np.array([[1,2],\n",
    "              [3,4],\n",
    "              [5,6],\n",
    "              [7,8],\n",
    "              [9,10],\n",
    "              [11,12]])\n",
    "print(a)\n",
    "\n",
    "# Python uses interesting syntax of slicing data\n",
    "print(a[0])\n",
    "print(a[:,0])\n",
    "print(a[1,1])\n",
    "print(a[2:4,0])"
   ]
  },
  {
   "cell_type": "code",
   "execution_count": 8,
   "metadata": {},
   "outputs": [
    {
     "name": "stdout",
     "output_type": "stream",
     "text": [
      "<class 'numpy.ndarray'>\n"
     ]
    },
    {
     "data": {
      "text/html": [
       "<div>\n",
       "<table border=\"1\" class=\"dataframe\">\n",
       "  <thead>\n",
       "    <tr style=\"text-align: right;\">\n",
       "      <th></th>\n",
       "      <th>Feature 1</th>\n",
       "      <th>Feature 2</th>\n",
       "    </tr>\n",
       "  </thead>\n",
       "  <tbody>\n",
       "    <tr>\n",
       "      <th>0</th>\n",
       "      <td>1</td>\n",
       "      <td>2</td>\n",
       "    </tr>\n",
       "    <tr>\n",
       "      <th>1</th>\n",
       "      <td>3</td>\n",
       "      <td>4</td>\n",
       "    </tr>\n",
       "    <tr>\n",
       "      <th>2</th>\n",
       "      <td>5</td>\n",
       "      <td>6</td>\n",
       "    </tr>\n",
       "    <tr>\n",
       "      <th>3</th>\n",
       "      <td>7</td>\n",
       "      <td>8</td>\n",
       "    </tr>\n",
       "    <tr>\n",
       "      <th>4</th>\n",
       "      <td>9</td>\n",
       "      <td>10</td>\n",
       "    </tr>\n",
       "    <tr>\n",
       "      <th>5</th>\n",
       "      <td>11</td>\n",
       "      <td>12</td>\n",
       "    </tr>\n",
       "  </tbody>\n",
       "</table>\n",
       "</div>"
      ],
      "text/plain": [
       "   Feature 1  Feature 2\n",
       "0          1          2\n",
       "1          3          4\n",
       "2          5          6\n",
       "3          7          8\n",
       "4          9         10\n",
       "5         11         12"
      ]
     },
     "execution_count": 8,
     "metadata": {},
     "output_type": "execute_result"
    }
   ],
   "source": [
    "# Lets create a DataFrame with Pandas that has more advanced utility functions built in\n",
    "df = pd.DataFrame(a)\n",
    "# with column names for ease of use\n",
    "df.columns = ['Feature 1','Feature 2']\n",
    "\n",
    "# ** note: Jupyter will 'pretty print' the LAST object you reference without a print()\n",
    "# But you have to use print('') to show any others before it\n",
    "\n",
    "print(type(df.values)) # <--- this gets printed\n",
    "df.values              # <--- but this DOESN'T get printed\n",
    "df                     # <--- but this does (last direct item)"
   ]
  },
  {
   "cell_type": "code",
   "execution_count": null,
   "metadata": {},
   "outputs": [],
   "source": []
  }
 ],
 "metadata": {
  "kernelspec": {
   "display_name": "Python 3",
   "language": "python",
   "name": "python3"
  },
  "language_info": {
   "codemirror_mode": {
    "name": "ipython",
    "version": 3
   },
   "file_extension": ".py",
   "mimetype": "text/x-python",
   "name": "python",
   "nbconvert_exporter": "python",
   "pygments_lexer": "ipython3",
   "version": "3.6.3"
  }
 },
 "nbformat": 4,
 "nbformat_minor": 2
}
